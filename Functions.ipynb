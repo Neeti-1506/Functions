{
  "nbformat": 4,
  "nbformat_minor": 0,
  "metadata": {
    "colab": {
      "provenance": []
    },
    "kernelspec": {
      "name": "python3",
      "display_name": "Python 3"
    },
    "language_info": {
      "name": "python"
    }
  },
  "cells": [
    {
      "cell_type": "markdown",
      "source": [
        "#THEORTICAL QUESTIONS"
      ],
      "metadata": {
        "id": "bL3SnI5VzSZx"
      }
    },
    {
      "cell_type": "markdown",
      "source": [
        "1.  What is the difference between a function and a method in Python?\n",
        "\n",
        "  **Function**: It is a block of code defined using the def keyword, independent of any class or object.It can be called by its name and can accept parameters.\n",
        "\n",
        "  **Method**: A method is a function that is defined within a class and is associated with instances of that class.\n",
        "It is called on an object of the class and can access and modify the object's attributes."
      ],
      "metadata": {
        "id": "1lMeErBWzelR"
      }
    },
    {
      "cell_type": "markdown",
      "source": [
        "2.  Explain the concept of function arguments and parameters in Python.\n",
        "\n",
        "  **Arguments** are the actual values or data you pass to the function when calling it.They provide the specific data that the function will operate on.\n",
        "\n",
        "  **Parameters** are the variables listed inside the parentheses in a function definition. They act as placeholders for the values that will be provided when the function is called. They define what kind of data the function expects to receive.\n"
      ],
      "metadata": {
        "id": "BSYud_pE0pB_"
      }
    },
    {
      "cell_type": "markdown",
      "source": [
        "3.  What are the different ways to define and call a function in Python?\n",
        "\n",
        "  **Functions are defined** using the def keyword, followed by the function name, parentheses and a colon. The function's code block is indented beneath the definition.\n",
        "\n",
        "  **To call a function**, use its name followed by parentheses. If the function requires parameters, pass the appropriate arguments within the parentheses.\n",
        "\n",
        "  Different Ways to Define and Call Functions:\n",
        "  1. Functions with Multiple Parameters\n",
        "  2. Functions with Default Parameter Values\n",
        "  3. Functions with Variable-Length Arguments\n",
        "  4. Lambda Functions (Anonymous Functions)\n",
        "  5. Functions Defined Inside Other Functions (Nested Functions)\n",
        "\n"
      ],
      "metadata": {
        "id": "wcVpMhqQ18UX"
      }
    },
    {
      "cell_type": "code",
      "execution_count": null,
      "metadata": {
        "id": "gDrRjlJyzIpT"
      },
      "outputs": [],
      "source": []
    },
    {
      "cell_type": "markdown",
      "source": [
        "4. What is the purpose of the `return` statement in a Python function?\n",
        "\n",
        "  The return statement is used to call a function for returning a value. It allows a function to send a result back to the part of the program that called it. This is essential when you want the function to compute a value and provide it for further use.\n",
        "\n"
      ],
      "metadata": {
        "id": "9fqNdyZz3a82"
      }
    },
    {
      "cell_type": "markdown",
      "source": [
        "5. What are iterators in Python and how do they differ from iterables?\n",
        "\n",
        "  An **iterable** is an object that can be iterated over (e.g., a list), while an **iterator** is an object that performs the iteration (e.g., an iterator object).\n",
        "  1. Iterables implement __iter__(), which returns an iterator. Iterators implement both __iter__() and __next__().\n",
        "  2. Iterables are used to create iterators, and iterators are used to traverse through the elements of an iterable.\n",
        "\n"
      ],
      "metadata": {
        "id": "5dAyJwIx4HnD"
      }
    },
    {
      "cell_type": "markdown",
      "source": [
        "6. Explain the concept of generators in Python and how they are defined.\n",
        "\n",
        "  Generators are special types of iterators defined using functions.  Generator functions use the yield keyword to produce a series of values, pausing after each yield and resuming when the next value is requested. This behavior allows generators to produce items one at a time and only when needed, making them memory-efficient.\n",
        "\n",
        "  A generator is defined like a regular function but uses the yield statement to return values"
      ],
      "metadata": {
        "id": "1qo8QIBm5X5o"
      }
    },
    {
      "cell_type": "code",
      "source": [
        "def square_num(n):\n",
        "  for i in range (n):\n",
        "    yield i**2\n"
      ],
      "metadata": {
        "id": "kiQhIv_V6b7R"
      },
      "execution_count": null,
      "outputs": []
    },
    {
      "cell_type": "code",
      "source": [
        "square_num(10)"
      ],
      "metadata": {
        "colab": {
          "base_uri": "https://localhost:8080/"
        },
        "id": "Hvjke5dx6syV",
        "outputId": "ead1a399-bc46-4104-83fb-2f2f156d8685"
      },
      "execution_count": null,
      "outputs": [
        {
          "output_type": "execute_result",
          "data": {
            "text/plain": [
              "<generator object square_num at 0x7c6695ff6dc0>"
            ]
          },
          "metadata": {},
          "execution_count": 3
        }
      ]
    },
    {
      "cell_type": "code",
      "source": [
        "gen= square_num(10)\n",
        "next(gen)"
      ],
      "metadata": {
        "colab": {
          "base_uri": "https://localhost:8080/"
        },
        "id": "9ii2IWX17AOa",
        "outputId": "07f7b462-0287-494f-d283-351935630ebb"
      },
      "execution_count": null,
      "outputs": [
        {
          "output_type": "execute_result",
          "data": {
            "text/plain": [
              "0"
            ]
          },
          "metadata": {},
          "execution_count": 6
        }
      ]
    },
    {
      "cell_type": "markdown",
      "source": [
        "7. What are the advantages of using generators over regular functions?\n",
        "\n",
        "    Generators yield items one at a time and only when required, which is more memory-efficient than storing the entire sequence in memory. This is especially beneficial when working with large datasets. It has many advantages like using less memory storage, Lazy evaluation by saving us to perform calculations for whole datasets.  "
      ],
      "metadata": {
        "id": "V1YLJLFU7e2n"
      }
    },
    {
      "cell_type": "markdown",
      "source": [
        "8.  What is a lambda function in Python and when is it typically used?\n",
        "\n",
        "  Lambda Functions are anonymous functions or shorthand functions.\n",
        "  Lambda functions are commonly used in situations where a simple, short-term function is required, especially when passing a function as an argument to higher-order functions\n",
        "\n",
        "  Syntax:\n",
        "\n",
        "  Lambda args: expression (no need of return statement and def keyword)"
      ],
      "metadata": {
        "id": "2aaJ9gzg9ytZ"
      }
    },
    {
      "cell_type": "markdown",
      "source": [
        "9. Explain the purpose and usage of the `map()` function in Python.\n",
        "\n",
        "  Map Functions executes a specified function for each item of an iterable. map() returns an iterator, so you need to convert it to a list or another iterable to view the results"
      ],
      "metadata": {
        "id": "Wj9xymhj-xLn"
      }
    },
    {
      "cell_type": "code",
      "source": [
        "l= [1,2,3,4]\n",
        "\n",
        "def sq(x):\n",
        "  return x**2\n",
        "\n",
        "  map(sq,l)\n"
      ],
      "metadata": {
        "id": "mZTd13Eo_joj"
      },
      "execution_count": null,
      "outputs": []
    },
    {
      "cell_type": "code",
      "source": [
        "list(map(sq,l))"
      ],
      "metadata": {
        "colab": {
          "base_uri": "https://localhost:8080/"
        },
        "id": "Hd6K7aan_aJu",
        "outputId": "2a08ee96-893d-4ee8-f749-570e44194122"
      },
      "execution_count": null,
      "outputs": [
        {
          "output_type": "execute_result",
          "data": {
            "text/plain": [
              "[1, 4, 9, 16]"
            ]
          },
          "metadata": {},
          "execution_count": 13
        }
      ]
    },
    {
      "cell_type": "markdown",
      "source": [
        "10. . What is the difference between `map()`, `reduce()`, and `filter()` functions in Python?\n",
        "\n",
        "  **map()**: Transforms each item in an iterable. It accepts a function and one or more iterables.\n",
        "\n",
        "  **filter**(): Selects items from an iterable based on a condition.It accepts a function and a single iterable.\n",
        "\n",
        "  **reduce()**: Aggregates items in an iterable to a single value. It accepts a function and a single iterable, with an optional initializer."
      ],
      "metadata": {
        "id": "QtwnjT_FAciv"
      }
    },
    {
      "cell_type": "markdown",
      "source": [
        "11. Write the internal mechanism for sum operation using reduce function on this given\n",
        "list:[47,11,42,13].\n",
        "\n",
        "  "
      ],
      "metadata": {
        "id": "RvmejlpeC_PP"
      }
    },
    {
      "cell_type": "code",
      "source": [
        "from functools import reduce #The reduce() function is part of the functools module, so it needs to be imported.\n",
        "def sum(x, y): # Define a function that adds two numbers\n",
        "    return x + y\n",
        "\n",
        "num= [47, 11, 42, 13]\n",
        "total = reduce(sum, num) # Use reduce to apply the add function cumulatively to the list\n",
        "\n",
        "print(total)"
      ],
      "metadata": {
        "colab": {
          "base_uri": "https://localhost:8080/"
        },
        "id": "04z_ieBGDVeQ",
        "outputId": "22ef5a27-4b38-40e5-b966-1739fdc4d07f"
      },
      "execution_count": null,
      "outputs": [
        {
          "output_type": "stream",
          "name": "stdout",
          "text": [
            "113\n"
          ]
        }
      ]
    },
    {
      "cell_type": "code",
      "source": [],
      "metadata": {
        "id": "6zNAaCVS7JNB"
      },
      "execution_count": null,
      "outputs": []
    },
    {
      "cell_type": "markdown",
      "source": [
        "#Practical Questions"
      ],
      "metadata": {
        "id": "OKXd8KsI3qeG"
      }
    },
    {
      "cell_type": "markdown",
      "source": [
        "\n",
        "1. Write a Python function that takes a list of numbers as input and returns the sum of all even numbers in\n",
        "the list."
      ],
      "metadata": {
        "id": "4AkgPY_F36rY"
      }
    },
    {
      "cell_type": "code",
      "source": [
        "def sum_even(x):\n",
        "  sum=0\n",
        "  for n in x:\n",
        "    if n%2==0:\n",
        "      sum=sum+n\n",
        "  return sum"
      ],
      "metadata": {
        "id": "o6GSg7CP4KEc"
      },
      "execution_count": null,
      "outputs": []
    },
    {
      "cell_type": "code",
      "source": [
        "x= [2,3,5,8,10,16,19]\n",
        "result= sum_even(x)\n",
        "print(result)"
      ],
      "metadata": {
        "colab": {
          "base_uri": "https://localhost:8080/"
        },
        "id": "6AlW2fZ456-X",
        "outputId": "712e3366-99e3-4e85-d6f1-12d3d2db0fff"
      },
      "execution_count": null,
      "outputs": [
        {
          "output_type": "stream",
          "name": "stdout",
          "text": [
            "36\n"
          ]
        }
      ]
    },
    {
      "cell_type": "markdown",
      "source": [
        "2. Create a Python function that accepts a string and returns the reverse of that string.\n"
      ],
      "metadata": {
        "id": "dg4ZWPBV8WdN"
      }
    },
    {
      "cell_type": "code",
      "source": [
        "def reverse_str(input_str):\n",
        "  return input_str[::-1]\n",
        "\n",
        "input_str= \"Hello Neeti!\"\n",
        "reversed_str= reverse_str(input_str)\n",
        "print(reversed_str)"
      ],
      "metadata": {
        "colab": {
          "base_uri": "https://localhost:8080/"
        },
        "id": "tiFKIpGZ8X01",
        "outputId": "0de0b2bf-1654-46f2-e7c1-fae136d90400"
      },
      "execution_count": null,
      "outputs": [
        {
          "output_type": "stream",
          "name": "stdout",
          "text": [
            "!iteeN olleH\n"
          ]
        }
      ]
    },
    {
      "cell_type": "markdown",
      "source": [
        "3. Implement a Python function that takes a list of integers and returns a new list containing the squares of\n",
        "each number."
      ],
      "metadata": {
        "id": "WpBN3KIp9RCw"
      }
    },
    {
      "cell_type": "code",
      "source": [
        "def square_num(l):\n",
        "  sq=[]\n",
        "  for i in l:\n",
        "    sq.append(i**2)\n",
        "  return sq\n",
        "l= [2,3,5,7,11]\n",
        "result= square_num(l)\n",
        "print(result)"
      ],
      "metadata": {
        "colab": {
          "base_uri": "https://localhost:8080/"
        },
        "id": "V4Xxt1jI9SxS",
        "outputId": "8f29ae5d-0f55-4cc3-9d07-46577dc2452b"
      },
      "execution_count": null,
      "outputs": [
        {
          "output_type": "stream",
          "name": "stdout",
          "text": [
            "[4, 9, 25, 49, 121]\n"
          ]
        }
      ]
    },
    {
      "cell_type": "markdown",
      "source": [
        "4. Write a Python function that checks if a given number is prime or not from 1 to 200.\n"
      ],
      "metadata": {
        "id": "lCnqj1xT__Qh"
      }
    },
    {
      "cell_type": "code",
      "source": [
        "import math\n",
        "\n",
        "def prime_num(n):\n",
        "\n",
        "    if n <= 1:\n",
        "        return False\n",
        "    for i in range(2, int(math.sqrt(n)) + 1):\n",
        "        if n % i == 0:\n",
        "            return False\n",
        "    return True\n",
        "for n in range (1,201):\n",
        "  if prime_num(n):\n",
        "    print(n, end=' ')"
      ],
      "metadata": {
        "id": "HzJ2ShMwDT57",
        "colab": {
          "base_uri": "https://localhost:8080/"
        },
        "outputId": "c0da6555-831f-4613-82ff-f92e07df36ea"
      },
      "execution_count": null,
      "outputs": [
        {
          "output_type": "stream",
          "name": "stdout",
          "text": [
            "2 3 5 7 11 13 17 19 23 29 31 37 41 43 47 53 59 61 67 71 73 79 83 89 97 101 103 107 109 113 127 131 137 139 149 151 157 163 167 173 179 181 191 193 197 199 "
          ]
        }
      ]
    },
    {
      "cell_type": "markdown",
      "source": [
        "5. Create an iterator class in Python that generates the Fibonacci sequence up to a specified number of\n",
        "terms."
      ],
      "metadata": {
        "id": "_oSFrygEGVlw"
      }
    },
    {
      "cell_type": "code",
      "source": [
        "class Fib:\n",
        "    def __init__(self, terms):\n",
        "        self.terms = terms\n",
        "        self.current = 0\n",
        "        self.next = 1\n",
        "        self.index = 0\n",
        "    def __iter__(self):\n",
        "        return self\n",
        "    def __next__(self):\n",
        "        if self.index >= self.terms:\n",
        "            raise StopIteration\n",
        "        result = self.current\n",
        "        self.current, self.next = self.next, self.current + self.next\n",
        "        self.index += 1\n",
        "        return result\n",
        "# Example Usage\n",
        "f = Fib(7)\n",
        "for n in f:\n",
        "    print(n, end=' ')"
      ],
      "metadata": {
        "colab": {
          "base_uri": "https://localhost:8080/"
        },
        "id": "eYFTz5JcHC4r",
        "outputId": "120a4a3c-4598-496d-ff2e-efa0839df8f2"
      },
      "execution_count": null,
      "outputs": [
        {
          "output_type": "stream",
          "name": "stdout",
          "text": [
            "0 1 1 2 3 5 8 "
          ]
        }
      ]
    },
    {
      "cell_type": "markdown",
      "source": [
        "6. Write a generator function in Python that yields the powers of 2 up to a given exponent."
      ],
      "metadata": {
        "id": "1FOovt-dHiM3"
      }
    },
    {
      "cell_type": "code",
      "source": [
        "def power_of_two(exp):\n",
        "    for i in range(exp + 1):\n",
        "        yield 2 ** i\n",
        "for power in power_of_two(4):\n",
        "  print(power)"
      ],
      "metadata": {
        "colab": {
          "base_uri": "https://localhost:8080/"
        },
        "id": "gb4oUfVLIv-s",
        "outputId": "07f7db09-03f0-4a77-e15b-67d735b3e12d"
      },
      "execution_count": null,
      "outputs": [
        {
          "output_type": "stream",
          "name": "stdout",
          "text": [
            "1\n",
            "2\n",
            "4\n",
            "8\n",
            "16\n"
          ]
        }
      ]
    },
    {
      "cell_type": "markdown",
      "source": [
        "7. Implement a generator function that reads a file line by line and yields each line as a string."
      ],
      "metadata": {
        "id": "whhvjJ0fJSEJ"
      }
    },
    {
      "cell_type": "code",
      "source": [
        "def read_file_line_by_line(file_path):\n",
        "    with open(file_path, 'r') as file:\n",
        "        for line in file:\n",
        "            yield line"
      ],
      "metadata": {
        "id": "5irV3qF4JmW0"
      },
      "execution_count": null,
      "outputs": []
    },
    {
      "cell_type": "markdown",
      "source": [],
      "metadata": {
        "id": "4xsUGSn2HbvM"
      }
    },
    {
      "cell_type": "markdown",
      "source": [
        "8. Use a lambda function in Python to sort a list of tuples based on the second element of each tuple."
      ],
      "metadata": {
        "id": "2b367MllO3N9"
      }
    },
    {
      "cell_type": "code",
      "source": [
        "tup_list= [(\"Ajay\", 5),(\"Vijay\",3),(\"Akshay\",9)]\n",
        "sorted_list= sorted(tup_list, key=lambda x:x[1])\n",
        "print(sorted_list)"
      ],
      "metadata": {
        "colab": {
          "base_uri": "https://localhost:8080/"
        },
        "id": "uX3GFbKZO5ke",
        "outputId": "598689af-9d3c-4099-86e6-77354a77a46b"
      },
      "execution_count": null,
      "outputs": [
        {
          "output_type": "stream",
          "name": "stdout",
          "text": [
            "[('Vijay', 3), ('Ajay', 5), ('Akshay', 9)]\n"
          ]
        }
      ]
    },
    {
      "cell_type": "markdown",
      "source": [
        "9. Write a Python program that uses `map()` to convert a list of temperatures from Celsius to Fahrenheit."
      ],
      "metadata": {
        "id": "oF-pCRcaRTM5"
      }
    },
    {
      "cell_type": "code",
      "source": [
        "def c_to_f(celsius):\n",
        "    return (celsius * 9/5) + 32\n",
        "\n",
        "celsius_temp = [0, 27, 36, 98]\n",
        "\n",
        "fahrenheit_temp = list(map(c_to_f, celsius_temp))\n",
        "\n",
        "print(fahrenheit_temp)"
      ],
      "metadata": {
        "colab": {
          "base_uri": "https://localhost:8080/"
        },
        "id": "_7ZBXiuJRsAV",
        "outputId": "a30e0350-56ba-4940-9c53-5aae952b05da"
      },
      "execution_count": null,
      "outputs": [
        {
          "output_type": "stream",
          "name": "stdout",
          "text": [
            "[32.0, 80.6, 96.8, 208.4]\n"
          ]
        }
      ]
    },
    {
      "cell_type": "markdown",
      "source": [
        "10. Create a Python program that uses `filter()` to remove all the vowels from a given string.\n",
        "\n",
        "\n"
      ],
      "metadata": {
        "id": "z38252kGSTTF"
      }
    },
    {
      "cell_type": "code",
      "source": [
        "def remove_vowels(input_str1):\n",
        "    vowels = 'aeiouAEIOU'\n",
        "    return ''.join(filter(lambda x: x not in vowels, input_str1))\n",
        "\n",
        "input_str1 = \"Welcome to the World!\"\n",
        "result = remove_vowels(input_str1)\n",
        "print(result)"
      ],
      "metadata": {
        "id": "q4UU7t9MHF4h",
        "colab": {
          "base_uri": "https://localhost:8080/"
        },
        "outputId": "6a40a70e-9f79-4331-e6ae-dbd1097710bd"
      },
      "execution_count": null,
      "outputs": [
        {
          "output_type": "stream",
          "name": "stdout",
          "text": [
            "Wlcm t th Wrld!\n"
          ]
        }
      ]
    },
    {
      "cell_type": "markdown",
      "source": [
        "11. Imagine an accounting routine used in a book shop. It works on a list with sublists, which look like this:\n",
        "\n",
        "  Write a Python program, which returns a list with 2-tuples. Each tuple consists of the order number and the\n",
        "product of the price per item and the quantity. The product should be increased by 10,- € if the value of the\n",
        "order is smaller than 100,00 €.\n",
        "\n",
        "  Write a Python program using lambda and map.\n"
      ],
      "metadata": {
        "id": "NecszPeNUjoF"
      }
    },
    {
      "cell_type": "code",
      "source": [
        "orders= [\n",
        "    [34587, \"Learning Python, Mark Lutz\", 4, 40.95],\n",
        "    [98762, \"Programminging Python, Mark Lutz\", 5, 56.80],\n",
        "    [77226, \"Head First Python, Paul Barry\", 3, 32.95],\n",
        "    [88112, \"EinfUhrung in Python3, Bernd Klein\", 3, 24.99] ]\n",
        "\n",
        "process_order= lambda order:(order[0], order[2] * order[3] + (10 if order[2] *order[3] < 100 else order[3]))\n",
        "processed_orders= list(map(process_order, orders))\n",
        "print(processed_orders)\n"
      ],
      "metadata": {
        "id": "eIPgrklkSWce",
        "colab": {
          "base_uri": "https://localhost:8080/"
        },
        "outputId": "9927feb4-9591-443b-885e-e30da5f6841e"
      },
      "execution_count": null,
      "outputs": [
        {
          "output_type": "stream",
          "name": "stdout",
          "text": [
            "[(34587, 204.75), (98762, 340.8), (77226, 108.85000000000001), (88112, 84.97)]\n"
          ]
        }
      ]
    },
    {
      "cell_type": "code",
      "source": [],
      "metadata": {
        "id": "gUHZaBenIdwD"
      },
      "execution_count": null,
      "outputs": []
    }
  ]
}